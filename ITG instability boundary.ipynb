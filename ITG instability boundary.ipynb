{
 "cells": [
  {
   "cell_type": "markdown",
   "metadata": {},
   "source": [
    "## ITG instability boundary condition\n",
    "\n",
    "When the following expression (discriminant of the dispersion relation) is negative, then we have complex roots, i.e. an unstable mode.\n",
    "\n",
    "$$36 \\frac{\\omega^n_e}{\\omega_s}\\frac{\\omega^T_i}{\\omega_s} + 4 \\left(\\frac{\\omega^n_e}{\\omega_s}\\right)^3\\frac{\\omega^T_i}{\\omega_s} + 4 \\left(\\frac{\\omega^n_e}{\\omega_s}\\right)^2 + 32 - 27\\left(\\frac{\\omega^T_i}{\\omega_s}\\right)^2 < 0 $$"
   ]
  },
  {
   "cell_type": "code",
   "execution_count": 1,
   "metadata": {},
   "outputs": [],
   "source": [
    "# define a function for the instability condition\n",
    "# omega_n = omega_ne / omega_s\n",
    "# omega_T = omega_Ti / omega_s\n",
    "def instability_boundary(omega_T, omega_n):\n",
    "    \n",
    "    # return the equation\n",
    "    return 36*omega_n*omega_T + 4*omega_n**3 *omega_T + 4*omega_n**2 + 32 - 27*omega_T**2"
   ]
  },
  {
   "cell_type": "code",
   "execution_count": 215,
   "metadata": {},
   "outputs": [
    {
     "data": {
      "text/plain": [
       "-696"
      ]
     },
     "execution_count": 215,
     "metadata": {},
     "output_type": "execute_result"
    }
   ],
   "source": [
    "# check the function for a random point\n",
    "instability_boundary(omega_n=1, omega_T=6)"
   ]
  },
  {
   "cell_type": "code",
   "execution_count": 260,
   "metadata": {},
   "outputs": [
    {
     "data": {
      "text/plain": [
       "500"
      ]
     },
     "execution_count": 260,
     "metadata": {},
     "output_type": "execute_result"
    }
   ],
   "source": [
    "# check the function for a random point\n",
    "instability_boundary(omega_n=3, omega_T=4)"
   ]
  },
  {
   "cell_type": "code",
   "execution_count": 13,
   "metadata": {},
   "outputs": [
    {
     "data": {
      "image/png": "[encoded data removed]",
      "text/plain": [
       "<Figure size 720x360 with 1 Axes>"
      ]
     },
     "metadata": {
      "needs_background": "light"
     },
     "output_type": "display_data"
    }
   ],
   "source": [
    "# contour plot for the ITG instability boundary\n",
    "# import packages\n",
    "import numpy as np\n",
    "import matplotlib.pyplot as plt\n",
    "from matplotlib import colors\n",
    "\n",
    "# create data for omega_n and omega_T\n",
    "omegat = np.linspace(0, 10, 100)\n",
    "omegan = np.linspace(0, 5, 100)\n",
    "\n",
    "# create the meshgrid for the function\n",
    "X, Y = np.meshgrid(omegat, omegan)\n",
    "\n",
    "# define the plot size\n",
    "fig, ax = plt.subplots(1,1, figsize=(10, 5))\n",
    "\n",
    "# create custom colormap and boundaries \n",
    "cmap = colors.ListedColormap(['blue', 'white'])\n",
    "bounds = [np.min(instability_boundary(X, Y)), 0, \n",
    "          np.max(instability_boundary(X, Y))]\n",
    "\n",
    "# create the contour plot\n",
    "cp = ax.contourf(X, Y, instability_boundary(X, Y), levels = bounds, cmap=cmap)\n",
    "\n",
    "# print the colorbar (optional)\n",
    "# plt.colorbar(cp, cmap = cmap, boundaries=bounds, \n",
    "  #           ticks=[np.min(instability_boundary(X, Y)), 0, \n",
    "   #                 np.max(instability_boundary(X, Y))])\n",
    "\n",
    "# set title and labels for the plot\n",
    "plt.title('ITG instability boundary', fontsize=15.0)\n",
    "plt.xlabel('$\\omega_i^T / \\omega_s$', fontsize=15.0)\n",
    "plt.ylabel('$\\omega_e^n / \\omega_s$', fontsize=15.0)\n",
    "\n",
    "plt.show()"
   ]
  },
  {
   "cell_type": "code",
   "execution_count": 7,
   "metadata": {},
   "outputs": [
    {
     "data": {
      "image/png": "[encoded data removed]",
      "text/plain": [
       "<Figure size 720x360 with 1 Axes>"
      ]
     },
     "metadata": {
      "needs_background": "light"
     },
     "output_type": "display_data"
    }
   ],
   "source": [
    "# contour plot for the ITG instability boundary -- text added to indicate the different regions\n",
    "# import packages\n",
    "import numpy as np\n",
    "import matplotlib.pyplot as plt\n",
    "from matplotlib import colors\n",
    "\n",
    "# create data for omega_n and omega_T\n",
    "omegat = np.linspace(0, 10, 100)\n",
    "omegan = np.linspace(0, 5, 100)\n",
    "\n",
    "# create the meshgrid for the function\n",
    "X, Y = np.meshgrid(omegat, omegan)\n",
    "\n",
    "# define the plot size\n",
    "fig, ax = plt.subplots(1,1, figsize=(10, 5))\n",
    "\n",
    "# create custom colormap and boundaries \n",
    "cmap = colors.ListedColormap(['blue', 'white'])\n",
    "bounds = [np.min(instability_boundary(X, Y)), 0, \n",
    "          np.max(instability_boundary(X, Y))]\n",
    "\n",
    "# create the contour plot\n",
    "cp = ax.contourf(X, Y, instability_boundary(X, Y), levels = bounds, cmap=cmap)\n",
    "\n",
    "# print the colorbar (optional)\n",
    "# plt.colorbar(cp, cmap = cmap, boundaries=bounds, \n",
    "  #           ticks=[np.min(instability_boundary(X, Y)), 0, \n",
    "   #                 np.max(instability_boundary(X, Y))])\n",
    "\n",
    "# set title and labels for the plot\n",
    "plt.title('ITG instability boundary', fontsize=15.0)\n",
    "plt.xlabel('$\\omega_i^T / \\omega_s$', fontsize=15.0)\n",
    "plt.ylabel('$\\omega_e^n / \\omega_s$', fontsize=15.0)\n",
    "\n",
    "# add text to indicate the different regions\n",
    "plt.text(5, 1, 'unstable region', fontsize=15.0)\n",
    "plt.text(3, 3, 'stable region', fontsize=15.0)\n",
    "\n",
    "plt.show()"
   ]
  },
  {
   "cell_type": "code",
   "execution_count": null,
   "metadata": {},
   "outputs": [],
   "source": []
  }
 ],
 "metadata": {
  "kernelspec": {
   "display_name": "Python 3",
   "language": "python",
   "name": "python3"
  },
  "language_info": {
   "codemirror_mode": {
    "name": "ipython",
    "version": 3
   },
   "file_extension": ".py",
   "mimetype": "text/x-python",
   "name": "python",
   "nbconvert_exporter": "python",
   "pygments_lexer": "ipython3",
   "version": "3.8.3"
  }
 },
 "nbformat": 4,
 "nbformat_minor": 4
}
